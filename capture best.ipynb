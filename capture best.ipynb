{
 "cells": [
  {
   "cell_type": "code",
   "execution_count": 2,
   "id": "bed4e243-d59f-4534-aaf4-cd74be5debe6",
   "metadata": {},
   "outputs": [],
   "source": [
    "import mediapipe as mp\n",
    "import cv2\n",
    "import os\n",
    "import csv\n",
    "import math\n",
    "\n",
    "# Initialize MediaPipe and OpenCV\n",
    "mp_drawing = mp.solutions.drawing_utils\n",
    "mp_hands = mp.solutions.hands\n",
    "\n",
    "# Set up the CSV file\n",
    "csv_path = 'test.csv'\n",
    "fieldnames = ['label'] + [f'dist_{i}_{j}' for i in range(21) for j in range(i+1, 21)] + [f'angle_{i}_{j}_{k}' for i in range(21) for j in range(i+1, 21) for k in range(j+1, 21)]\n",
    "\n",
    "# Function to calculate the Euclidean distance between two landmarks\n",
    "def calculate_distance(landmark1, landmark2):\n",
    "    return math.sqrt((landmark2.x - landmark1.x)**2 + (landmark2.y - landmark1.y)**2 + (landmark2.z - landmark1.z)**2)\n",
    "\n",
    "# Function to calculate the angle between three landmarks\n",
    "def calculate_angle(landmark1, landmark2, landmark3):\n",
    "    vec1 = [landmark2.x - landmark1.x, landmark2.y - landmark1.y, landmark2.z - landmark1.z]\n",
    "    vec2 = [landmark3.x - landmark2.x, landmark3.y - landmark2.y, landmark3.z - landmark2.z]\n",
    "    \n",
    "    dot_product = sum(v1 * v2 for v1, v2 in zip(vec1, vec2))\n",
    "    magnitude1 = math.sqrt(sum(v**2 for v in vec1))\n",
    "    magnitude2 = math.sqrt(sum(v**2 for v in vec2))\n",
    "    \n",
    "    if magnitude1 == 0 or magnitude2 == 0:\n",
    "        return 0.0\n",
    "    \n",
    "    cosine_angle = dot_product / (magnitude1 * magnitude2)\n",
    "    angle = math.acos(cosine_angle)\n",
    "    return math.degrees(angle)\n",
    "\n",
    "# Open the CSV file in write mode\n",
    "with open(csv_path, mode='w', newline='') as csvfile:\n",
    "    csv_writer = csv.DictWriter(csvfile, fieldnames=fieldnames)\n",
    "    csv_writer.writeheader()\n",
    "\n",
    "    cap = cv2.VideoCapture(0)\n",
    "    label = 'Thumbs Up'  # Start with the \"Thumbs Up\" label\n",
    "\n",
    "    with mp_hands.Hands(min_detection_confidence=0.8, min_tracking_confidence=0.5) as hands: \n",
    "        while cap.isOpened():\n",
    "            ret, frame = cap.read()\n",
    "            \n",
    "            # BGR to RGB\n",
    "            image = cv2.cvtColor(frame, cv2.COLOR_BGR2RGB)\n",
    "            \n",
    "            # Flip on horizontal\n",
    "            image = cv2.flip(image, 1)\n",
    "            \n",
    "            # Set flag\n",
    "            image.flags.writeable = False\n",
    "            \n",
    "            # Detections\n",
    "            results = hands.process(image)\n",
    "            \n",
    "            # Set flag to true\n",
    "            image.flags.writeable = True\n",
    "            \n",
    "            # RGB to BGR\n",
    "            image = cv2.cvtColor(image, cv2.COLOR_RGB2BGR)\n",
    "            \n",
    "            # Rendering results and collecting landmark data\n",
    "            if results.multi_hand_landmarks:\n",
    "                for hand_landmarks in results.multi_hand_landmarks:\n",
    "                    mp_drawing.draw_landmarks(image, hand_landmarks, mp_hands.HAND_CONNECTIONS, \n",
    "                                            mp_drawing.DrawingSpec(color=(121, 22, 76), thickness=2, circle_radius=4),\n",
    "                                            mp_drawing.DrawingSpec(color=(250, 44, 250), thickness=2, circle_radius=2),\n",
    "                                             )\n",
    "                    \n",
    "                    # Prepare the row data\n",
    "                    row = {'label': label}\n",
    "                    \n",
    "                    # Calculate distances between all pairs of landmarks\n",
    "                    for i in range(21):\n",
    "                        for j in range(i+1, 21):\n",
    "                            distance = calculate_distance(hand_landmarks.landmark[i], hand_landmarks.landmark[j])\n",
    "                            row[f'dist_{i}_{j}'] = distance\n",
    "                    \n",
    "                    # Calculate angles between sets of three landmarks\n",
    "                    for i in range(21):\n",
    "                        for j in range(i+1, 21):\n",
    "                            for k in range(j+1, 21):\n",
    "                                angle = calculate_angle(hand_landmarks.landmark[i], hand_landmarks.landmark[j], hand_landmarks.landmark[k])\n",
    "                                row[f'angle_{i}_{j}_{k}'] = angle\n",
    "                    \n",
    "                    # Write the row to the CSV file\n",
    "                    csv_writer.writerow(row)\n",
    "                    \n",
    "            # Display the image\n",
    "            cv2.imshow('Hand Tracking', image)\n",
    "\n",
    "            # Switch between labels using the keys 'u', 'd', and 'e'\n",
    "            key = cv2.waitKey(10) & 0xFF\n",
    "            if key == ord('u'):\n",
    "                label = 'spider'\n",
    "            elif key == ord('e'):\n",
    "                label = 'super'\n",
    "            elif key == ord('d'):\n",
    "                label = 'hi'\n",
    "            elif key == ord('q'):\n",
    "                break\n",
    "                \n",
    "    cap.release()\n",
    "    cv2.destroyAllWindows()\n"
   ]
  },
  {
   "cell_type": "code",
   "execution_count": 1,
   "id": "5496d394-5e3d-4d61-9e49-b34388dc7b46",
   "metadata": {},
   "outputs": [],
   "source": [
    "import pandas as pd"
   ]
  },
  {
   "cell_type": "code",
   "execution_count": 7,
   "id": "92d03bef-6790-4352-8d11-42a5efcf11cb",
   "metadata": {},
   "outputs": [],
   "source": [
    "df = pd.read_csv(\"hand_features.csv\")"
   ]
  },
  {
   "cell_type": "code",
   "execution_count": 13,
   "id": "0001debb-6c94-462a-980d-94b1e651fc46",
   "metadata": {},
   "outputs": [
    {
     "data": {
      "text/plain": [
       "829"
      ]
     },
     "execution_count": 13,
     "metadata": {},
     "output_type": "execute_result"
    }
   ],
   "source": [
    "len(df)"
   ]
  },
  {
   "cell_type": "code",
   "execution_count": null,
   "id": "5321268c-a8de-458b-9366-35a611e115c2",
   "metadata": {},
   "outputs": [],
   "source": []
  }
 ],
 "metadata": {
  "kernelspec": {
   "display_name": "Python 3 (ipykernel)",
   "language": "python",
   "name": "python3"
  },
  "language_info": {
   "codemirror_mode": {
    "name": "ipython",
    "version": 3
   },
   "file_extension": ".py",
   "mimetype": "text/x-python",
   "name": "python",
   "nbconvert_exporter": "python",
   "pygments_lexer": "ipython3",
   "version": "3.9.18"
  }
 },
 "nbformat": 4,
 "nbformat_minor": 5
}
