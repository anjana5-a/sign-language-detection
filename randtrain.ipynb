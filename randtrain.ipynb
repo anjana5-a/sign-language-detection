{
 "cells": [
  {
   "cell_type": "code",
   "execution_count": 1,
   "id": "472d6584-18bc-4da3-957f-53fc5de3dac5",
   "metadata": {},
   "outputs": [
    {
     "name": "stdout",
     "output_type": "stream",
     "text": [
      "Model Accuracy: 0.99\n",
      "              precision    recall  f1-score   support\n",
      "\n",
      "    Bathroom       1.00      1.00      1.00        69\n",
      "     Call Me       0.99      1.00      0.99        68\n",
      " Closed Fist       1.00      0.96      0.98        50\n",
      "       Drink       1.00      1.00      1.00        55\n",
      "         Eat       1.00      0.98      0.99        55\n",
      "   Good Luck       0.99      1.00      0.99        74\n",
      "     GoodBye       1.00      1.00      1.00        85\n",
      "           I       1.00      0.98      0.99        54\n",
      "  I LOVE YOU       1.00      0.98      0.99        86\n",
      "        Okey       0.99      0.99      0.99       121\n",
      "   Open Palm       0.95      0.98      0.97        59\n",
      "       Peace       0.98      1.00      0.99       108\n",
      " Pointing up       0.98      1.00      0.99        83\n",
      "   Thumbs Up       1.00      0.98      0.99       149\n",
      " Thumbs down       0.99      0.99      0.99       113\n",
      "         You       0.98      0.99      0.98        89\n",
      "\n",
      "    accuracy                           0.99      1318\n",
      "   macro avg       0.99      0.99      0.99      1318\n",
      "weighted avg       0.99      0.99      0.99      1318\n",
      "\n"
     ]
    },
    {
     "data": {
      "text/plain": [
       "['gesture_recognition_rf.pkl']"
      ]
     },
     "execution_count": 1,
     "metadata": {},
     "output_type": "execute_result"
    }
   ],
   "source": [
    "import pandas as pd\n",
    "from sklearn.ensemble import RandomForestClassifier\n",
    "from sklearn.model_selection import train_test_split\n",
    "from sklearn.preprocessing import StandardScaler\n",
    "from sklearn.pipeline import make_pipeline\n",
    "from sklearn.metrics import classification_report, accuracy_score\n",
    "import joblib\n",
    "\n",
    "# Load the dataset\n",
    "data = pd.read_csv('new.csv')\n",
    "\n",
    "# Separate features and labels\n",
    "X = data.drop('label', axis=1)\n",
    "y = data['label']\n",
    "\n",
    "# Split the dataset into training and test sets\n",
    "X_train, X_test, y_train, y_test = train_test_split(X, y, test_size=0.2, random_state=42)\n",
    "\n",
    "# Define the Random Forest model and pipeline\n",
    "model = make_pipeline(StandardScaler(), RandomForestClassifier(n_estimators=100, random_state=42))\n",
    "\n",
    "# Train the model\n",
    "model.fit(X_train, y_train)\n",
    "\n",
    "# Evaluate the model\n",
    "y_pred = model.predict(X_test)\n",
    "print(f\"Model Accuracy: {accuracy_score(y_test, y_pred):.2f}\")\n",
    "print(classification_report(y_test, y_pred))\n",
    "\n",
    "# Save the model and scaler\n",
    "joblib.dump(model, 'gesture_recognition_rf.pkl')\n"
   ]
  },
  {
   "cell_type": "code",
   "execution_count": null,
   "id": "5ed97cee-fab4-4f3a-9370-9fb798ef139c",
   "metadata": {},
   "outputs": [],
   "source": []
  }
 ],
 "metadata": {
  "kernelspec": {
   "display_name": "Python 3 (ipykernel)",
   "language": "python",
   "name": "python3"
  },
  "language_info": {
   "codemirror_mode": {
    "name": "ipython",
    "version": 3
   },
   "file_extension": ".py",
   "mimetype": "text/x-python",
   "name": "python",
   "nbconvert_exporter": "python",
   "pygments_lexer": "ipython3",
   "version": "3.9.18"
  }
 },
 "nbformat": 4,
 "nbformat_minor": 5
}
